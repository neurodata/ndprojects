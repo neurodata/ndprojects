{
 "cells": [
  {
   "cell_type": "markdown",
   "metadata": {},
   "source": [
    "Claim 5: There were 1,700 synapses at a density of one synapse per 1.13 μm3."
   ]
  },
  {
   "cell_type": "code",
   "execution_count": 8,
   "metadata": {
    "collapsed": true
   },
   "outputs": [],
   "source": [
    "import numpy as np\n",
    "import ndio.remote.neurodata as nd\n",
    "from datetime import datetime\n",
    "\n",
    "startTime = datetime.now()\n",
    "\n",
    "oo = nd()\n",
    "\n",
    "token = 'kasthuri2015_ramon_v1'\n",
    "channel = 'synapses'\n",
    "resolution = 3"
   ]
  },
  {
   "cell_type": "code",
   "execution_count": 9,
   "metadata": {
    "collapsed": false
   },
   "outputs": [
    {
     "name": "stdout",
     "output_type": "stream",
     "text": [
      "0:00:00.258772\n"
     ]
    }
   ],
   "source": [
    "import ndio.ramon as ramon\n",
    "\n",
    "synapse_ids = oo.get_ramon_ids(token, channel, ramon_type=ramon.RAMONSynapse)\n",
    "\n",
    "# A priori known bounds for cylinders.  Alternatively we could sweep over entire volume - this is more efficient.\n",
    "\n",
    "xbox = [694,1794]; \n",
    "ybox = [1750, 2460];\n",
    "zbox = [1004, 1379];\n",
    "\n",
    "# These calls take about 60 seconds to execute\n",
    "gcyl = oo.get_volume('kat11greencylinder','annotation', xbox[0], xbox[1], ybox[0], ybox[1], zbox[0], zbox[1], resolution = res)\n",
    "rcyl = oo.get_volume('kat11redcylinder','annotation', xbox[0], xbox[1], ybox[0], ybox[1], zbox[0], zbox[1], resolution = res)\n",
    "bcyl = oo.get_volume('kat11mojocylinder','annotation', xbox[0], xbox[1], ybox[0], ybox[1], zbox[0], zbox[1], resolution = res)\n",
    "\n",
    "\n",
    "mask = (gcyl.cutout + rcyl.cutout + bcyl.cutout) > 0\n",
    "\n",
    "mask_pixels = sum(sum(sum(mask)))\n",
    "mask_volume = mask_pixels * pixel_dim\n",
    "print 'Mask Pixels: ' + str(mask_pixels)\n",
    "print 'Mask Volume: ' + str(mask_volume) + ' um^3'\n",
    "\n",
    "import scipy.ndimage as ndimage \n",
    "import matplotlib.pylab as plt\n",
    "\n",
    "n = 10\n",
    "l = 256\n",
    "im = np.zeros((l, l))\n",
    "points = l*np.random.random((2, n**2))\n",
    "im[(points[0]).astype(np.int), (points[1]).astype(np.int)] = 1\n",
    "im = ndimage.gaussian_filter(im, sigma=l/(4.*n))\n",
    "im = np.round(im).astype('int')\n",
    "mask = im > im.mean()\n",
    "label_im, nb_labels = ndimage.label(im)\n",
    "print nb_labels # how many regions?\n",
    "\n",
    "plt.imshow(im)        \n",
    "plt.show()\n",
    "\n",
    "\n",
    "\n",
    "print datetime.now() - startTime"
   ]
  },
  {
   "cell_type": "code",
   "execution_count": 10,
   "metadata": {
    "collapsed": false
   },
   "outputs": [
    {
     "name": "stdout",
     "output_type": "stream",
     "text": [
      "1700\n"
     ]
    }
   ],
   "source": [
    "print np.shape(synapse_ids)[0]"
   ]
  }
 ],
 "metadata": {
  "kernelspec": {
   "display_name": "Python 2",
   "language": "python",
   "name": "python2"
  },
  "language_info": {
   "codemirror_mode": {
    "name": "ipython",
    "version": 2
   },
   "file_extension": ".py",
   "mimetype": "text/x-python",
   "name": "python",
   "nbconvert_exporter": "python",
   "pygments_lexer": "ipython2",
   "version": "2.7.11"
  }
 },
 "nbformat": 4,
 "nbformat_minor": 0
}
